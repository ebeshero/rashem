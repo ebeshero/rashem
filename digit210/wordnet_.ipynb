{
 "cells": [
  {
   "cell_type": "code",
   "execution_count": null,
   "id": "7c38ae19-2ce4-4c47-894f-80190e5e8a88",
   "metadata": {},
   "outputs": [],
   "source": [
    "import os\n",
    "import nltk\n",
    "from nltk.corpus import wordnet as wn\n",
    "from nltk import word_tokenize, pos_tag\n",
    "\n",
    "nltk.download('punkt')\n",
    "nltk.download('averaged_perceptron_tagger')\n",
    "nltk.download('wordnet')\n",
    "\n",
    "folder_path = '/Users/raasheemishra/Documents/GitHub/True_Crime/dialogue-only-text'\n",
    "texts = []\n",
    "for filename in os.listdir(folder_path):\n",
    "    if filename.endswith('.txt'):\n",
    "        with open(os.path.join(folder_path, filename), 'r', encoding='utf-8') as file:\n",
    "            texts.append(file.read())\n",
    "full_text = ' '.join(texts)\n",
    "\n",
    "tokens = word_tokenize(full_text)\n",
    "tagged = pos_tag(tokens)\n",
    "\n",
    "nouns = [word for word, tag in tagged if tag.startswith('NN')]\n",
    "unique_nouns = list(set(nouns))[:10] \n",
    "\n",
    "print(\"Word Ambiguity via WordNet:\")\n",
    "for word in unique_nouns:\n",
    "    synsets = wn.synsets(word)\n",
    "    print(f\"{word}: {len(synsets)} synsets\")\n"
   ]
  },
  {
   "cell_type": "code",
   "execution_count": null,
   "id": "21e677ac-b452-4a6a-be79-574d9f400f8a",
   "metadata": {},
   "outputs": [],
   "source": []
  }
 ],
 "metadata": {
  "kernelspec": {
   "display_name": "Python 3 (ipykernel)",
   "language": "python",
   "name": "python3"
  },
  "language_info": {
   "codemirror_mode": {
    "name": "ipython",
    "version": 3
   },
   "file_extension": ".py",
   "mimetype": "text/x-python",
   "name": "python",
   "nbconvert_exporter": "python",
   "pygments_lexer": "ipython3",
   "version": "3.9.6"
  }
 },
 "nbformat": 4,
 "nbformat_minor": 5
}
